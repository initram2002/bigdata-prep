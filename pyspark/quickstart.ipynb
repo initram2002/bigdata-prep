{
 "cells": [
  {
   "cell_type": "markdown",
   "metadata": {},
   "source": [
    "# PySpark Quickstart Guide\n",
    "\n",
    "Introduction to Apache Spark with Python, covering basic concepts and operations."
   ]
  },
  {
   "cell_type": "markdown",
   "metadata": {},
   "source": [
    "## 1. Initialize Spark Session"
   ]
  },
  {
   "cell_type": "code",
   "execution_count": null,
   "metadata": {},
   "outputs": [],
   "source": [
    "from pyspark.sql import SparkSession\n",
    "from pyspark.sql.functions import *\n",
    "from pyspark.sql.types import *\n",
    "\n",
    "# Create Spark session\n",
    "spark = SparkSession.builder \\\n",
    "    .appName(\"PySpark Quickstart\") \\\n",
    "    .config(\"spark.sql.adaptive.enabled\", \"true\") \\\n",
    "    .config(\"spark.sql.adaptive.coalescePartitions.enabled\", \"true\") \\\n",
    "    .getOrCreate()\n",
    "\n",
    "# Set log level to reduce noise\n",
    "spark.sparkContext.setLogLevel(\"WARN\")\n",
    "\n",
    "print(f\"Spark version: {spark.version}\")\n",
    "print(f\"Spark UI: {spark.sparkContext.uiWebUrl}\")"
   ]
  },
  {
   "cell_type": "markdown",
   "metadata": {},
   "source": [
    "## 2. Working with RDDs"
   ]
  },
  {
   "cell_type": "code",
   "execution_count": null,
   "metadata": {},
   "outputs": [],
   "source": [
    "# Create RDD from a list\n",
    "numbers = spark.sparkContext.parallelize([1, 2, 3, 4, 5, 6, 7, 8, 9, 10])\n",
    "\n",
    "# Basic RDD operations\n",
    "print(\"Numbers:\", numbers.collect())\n",
    "print(\"Count:\", numbers.count())\n",
    "print(\"Sum:\", numbers.reduce(lambda a, b: a + b))\n",
    "print(\"Even numbers:\", numbers.filter(lambda x: x % 2 == 0).collect())\n",
    "print(\"Squared:\", numbers.map(lambda x: x * x).collect())"
   ]
  },
  {
   "cell_type": "markdown",
   "metadata": {},
   "source": [
    "## 3. Working with DataFrames"
   ]
  },
  {
   "cell_type": "code",
   "execution_count": null,
   "metadata": {},
   "outputs": [],
   "source": [
    "# Create sample data\n",
    "data = [\n",
    "    (\"Alice\", 25, \"Engineer\", 75000),\n",
    "    (\"Bob\", 30, \"Data Scientist\", 85000),\n",
    "    (\"Charlie\", 35, \"Manager\", 95000),\n",
    "    (\"Diana\", 28, \"Engineer\", 78000),\n",
    "    (\"Eve\", 32, \"Data Scientist\", 88000)\n",
    "]\n",
    "\n",
    "# Define schema\n",
    "schema = StructType([\n",
    "    StructField(\"name\", StringType(), True),\n",
    "    StructField(\"age\", IntegerType(), True),\n",
    "    StructField(\"job\", StringType(), True),\n",
    "    StructField(\"salary\", IntegerType(), True)\n",
    "])\n",
    "\n",
    "# Create DataFrame\n",
    "df = spark.createDataFrame(data, schema)\n",
    "\n",
    "# Basic DataFrame operations\n",
    "print(\"Schema:\")\n",
    "df.printSchema()\n",
    "\n",
    "print(\"\\nData:\")\n",
    "df.show()\n",
    "\n",
    "print(\"\\nStatistics:\")\n",
    "df.describe().show()"
   ]
  },
  {
   "cell_type": "markdown",
   "metadata": {},
   "source": [
    "## 4. DataFrame Operations"
   ]
  },
  {
   "cell_type": "code",
   "execution_count": null,
   "metadata": {},
   "outputs": [],
   "source": [
    "# Select columns\n",
    "print(\"Names and salaries:\")\n",
    "df.select(\"name\", \"salary\").show()\n",
    "\n",
    "# Filter data\n",
    "print(\"\\nEngineers:\")\n",
    "df.filter(col(\"job\") == \"Engineer\").show()\n",
    "\n",
    "# Group by and aggregate\n",
    "print(\"\\nAverage salary by job:\")\n",
    "df.groupBy(\"job\").agg(avg(\"salary\").alias(\"avg_salary\")).show()\n",
    "\n",
    "# Add new column\n",
    "print(\"\\nWith bonus column:\")\n",
    "df.withColumn(\"bonus\", col(\"salary\") * 0.1).show()"
   ]
  },
  {
   "cell_type": "markdown",
   "metadata": {},
   "source": [
    "## 5. SQL Queries"
   ]
  },
  {
   "cell_type": "code",
   "execution_count": null,
   "metadata": {},
   "outputs": [],
   "source": [
    "# Register DataFrame as temporary view\n",
    "df.createOrReplaceTempView(\"employees\")\n",
    "\n",
    "# Execute SQL queries\n",
    "result = spark.sql(\"\"\"\n",
    "    SELECT job, \n",
    "           COUNT(*) as count,\n",
    "           AVG(salary) as avg_salary,\n",
    "           MAX(age) as max_age\n",
    "    FROM employees \n",
    "    GROUP BY job\n",
    "    ORDER BY avg_salary DESC\n",
    "\"\"\")\n",
    "\n",
    "result.show()"
   ]
  },
  {
   "cell_type": "markdown",
   "metadata": {},
   "source": [
    "## 6. Performance Tips"
   ]
  },
  {
   "cell_type": "code",
   "execution_count": null,
   "metadata": {},
   "outputs": [],
   "source": [
    "# Check partitions\n",
    "print(f\"Number of partitions: {df.rdd.getNumPartitions()}\")\n",
    "\n",
    "# Cache frequently used DataFrames\n",
    "df.cache()\n",
    "\n",
    "# Repartition for better performance\n",
    "df_repartitioned = df.repartition(4)\n",
    "print(f\"After repartitioning: {df_repartitioned.rdd.getNumPartitions()}\")\n",
    "\n",
    "# Explain query plan\n",
    "df.filter(col(\"salary\") > 80000).explain()"
   ]
  },
  {
   "cell_type": "markdown",
   "metadata": {},
   "source": [
    "## 7. Cleanup"
   ]
  },
  {
   "cell_type": "code",
   "execution_count": null,
   "metadata": {},
   "outputs": [],
   "source": [
    "# Stop Spark session\n",
    "spark.stop()\n",
    "print(\"Spark session stopped.\")"
   ]
  }
 ],
 "metadata": {
  "kernelspec": {
   "display_name": "Python 3",
   "language": "python",
   "name": "python3"
  },
  "language_info": {
   "codemirror_mode": {
    "name": "ipython",
    "version": 3
   },
   "file_extension": ".py",
   "mimetype": "text/x-python",
   "name": "python",
   "nbconvert_exporter": "python",
   "pygments_lexer": "ipython3",
   "version": "3.8.5"
  }
 },
 "nbformat": 4,
 "nbformat_minor": 4
}